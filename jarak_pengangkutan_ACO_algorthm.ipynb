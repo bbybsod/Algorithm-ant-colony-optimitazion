{
  "nbformat": 4,
  "nbformat_minor": 0,
  "metadata": {
    "colab": {
      "provenance": [],
      "include_colab_link": true
    },
    "kernelspec": {
      "name": "python3",
      "display_name": "Python 3"
    },
    "language_info": {
      "name": "python"
    }
  },
  "cells": [
    {
      "cell_type": "markdown",
      "metadata": {
        "id": "view-in-github",
        "colab_type": "text"
      },
      "source": [
        "<a href=\"https://colab.research.google.com/github/bbybsod/Algorithm-ant-colony-optimitazion/blob/main/jarak_pengangkutan_ACO_algorthm.ipynb\" target=\"_parent\"><img src=\"https://colab.research.google.com/assets/colab-badge.svg\" alt=\"Open In Colab\"/></a>"
      ]
    },
    {
      "cell_type": "markdown",
      "source": [
        "# Library yang dibutuhkan"
      ],
      "metadata": {
        "id": "79VrFhPNuC5N"
      }
    },
    {
      "cell_type": "code",
      "source": [
        "import numpy as np\n",
        "import pandas as pd\n",
        "import matplotlib.pyplot as plt\n",
        "import random\n",
        "import copy"
      ],
      "metadata": {
        "id": "FzpYEQ2YuJe9"
      },
      "execution_count": null,
      "outputs": []
    },
    {
      "cell_type": "markdown",
      "source": [
        "# Initialization parameter Ant Colony optimitazion"
      ],
      "metadata": {
        "id": "7UNTIeygvfdj"
      }
    },
    {
      "cell_type": "code",
      "source": [
        "alpha = 1\n",
        "beta = 1\n",
        "rho = 0.05\n",
        "Q = 1\n",
        "iteration = 100\n",
        "pheromone_init = 0.1\n",
        "m = 6"
      ],
      "metadata": {
        "id": "fA84zS4rvnzK"
      },
      "execution_count": null,
      "outputs": []
    },
    {
      "cell_type": "markdown",
      "source": [
        "# data Nama Lokasi"
      ],
      "metadata": {
        "id": "-gFsZyj8wHfM"
      }
    },
    {
      "cell_type": "code",
      "source": [
        "locations = [\n",
        "    \"TPA\", \"Jl. Marelan Raya\", \"Jl. Baut\", \"Jl. Pasar 1 Tengah\",\n",
        "    \"Komplek Suzuya Plaza\", \"Komplek Marelan 88\", \"Komplek Deli Indah\",\n",
        "    \"Komplek Maryland\", \"Komplek Sejati\", \"Rs Esmun\"\n",
        "]"
      ],
      "metadata": {
        "id": "FHzAWt-QwRHU"
      },
      "execution_count": null,
      "outputs": []
    },
    {
      "cell_type": "markdown",
      "source": [
        "# Matrix distance"
      ],
      "metadata": {
        "id": "Wm12xf6V5k0m"
      }
    },
    {
      "cell_type": "code",
      "source": [
        "d = np.array([\n",
        "    [0, 2.0, 5.9, 5.1, 6.1, 2.8, 4.0, 6.0, 5.3, 4.8],\n",
        "    [2.0, 0, 1.6, 2.1, 0.35, 3.9, 2.0, 0.65, 0.9, 0.65],\n",
        "    [5.9, 1.6, 0, 1.8, 1.4, 4.4, 4.2, 1.5, 1.5, 1.1],\n",
        "    [5.1, 2.1, 1.8, 0, 2.5, 3.6, 2.8, 2.8, 2.0, 1.5],\n",
        "    [6.1, 0.35, 1.4, 2.5, 0, 4.6, 4.4, 0.7, 0.75, 1.3],\n",
        "    [2.8, 3.9, 4.4, 3.6, 4.6, 0, 1.7, 4.6, 3.8, 3.3],\n",
        "    [4.0, 2.0, 4.2, 2.8, 4.4, 1.7, 0, 4.4, 3.7, 3.2],\n",
        "    [6.0, 0.65, 1.5, 2.8, 0.7, 4.6, 4.4, 0, 0.7, 1.3],\n",
        "    [5.3, 0.9, 1.5, 2.0, 0.75, 3.8, 3.7, 0.7, 0, 0.6],\n",
        "    [4.8, 0.65, 1.1, 1.5, 1.3, 3.3, 3.2, 1.3, 0.6, 0]\n",
        "])\n",
        "\n",
        "n = len(d)"
      ],
      "metadata": {
        "id": "I75U2Wfg5nfC"
      },
      "execution_count": null,
      "outputs": []
    },
    {
      "cell_type": "markdown",
      "source": [
        "# Fungsi-fungsi utama ant colony optimitazion"
      ],
      "metadata": {
        "id": "Rlbaodw356c3"
      }
    },
    {
      "cell_type": "code",
      "source": [
        "def findroute(rute, antnumber, temp_visibility, pheromone):\n",
        "    i = copy.copy(antnumber)\n",
        "    p_feature = np.power(pheromone, alpha)\n",
        "    v_feature = np.power(temp_visibility, beta)\n",
        "    combine = np.multiply(p_feature, v_feature)\n",
        "    for j in range(n - 1):\n",
        "        cur = int(rute[i, j])\n",
        "        combine[:, cur] = 0\n",
        "        prob = combine[cur, :]\n",
        "        total = np.sum(prob)\n",
        "        cum_prob = np.cumsum(prob / total)\n",
        "        r = np.random.random()\n",
        "        city = np.where(cum_prob > r)[0][0]\n",
        "        rute[i, j + 1] = city\n",
        "    return rute\n",
        "\n",
        "def findrouteallant(rute, pheromone, visibility):\n",
        "    temp_visibility = np.array(visibility)\n",
        "    for i in range(m):\n",
        "        rute = findroute(rute, i, temp_visibility, pheromone)\n",
        "    return rute\n",
        "\n",
        "def totaldistancetour(tour):\n",
        "    jarak = 0\n",
        "    tour = tour.astype(int)\n",
        "    for i in range(len(tour) - 1):\n",
        "        jarak += d[tour[i]][tour[i + 1]]\n",
        "    jarak += d[tour[-1]][tour[0]]\n",
        "    return jarak\n",
        "\n",
        "def evaluate(ants):\n",
        "    ants = ants.tolist()\n",
        "    evaluations = [totaldistancetour(np.array(tour)) for tour in ants]\n",
        "    return evaluations\n",
        "\n",
        "def updatepheromone(pheromone, rute, evaluasi):\n",
        "    for i in range(m):\n",
        "        for j in range(n - 1):\n",
        "            dt = Q / evaluasi[i]\n",
        "            pheromone[int(rute[i, j]), int(rute[i, j + 1])] += dt\n",
        "    return pheromone\n",
        "\n",
        "def performancerecord(evaluasi, rute, bestperformance, solutionarray, performancearray, bestperformancearray):\n",
        "    currentperformance = min(evaluasi)\n",
        "    currentsolution = rute[np.argmin(evaluasi)]\n",
        "    if currentperformance < bestperformance:\n",
        "        bestperformance = copy.copy(currentperformance)\n",
        "    solutionarray.append(currentsolution)\n",
        "    performancearray.append(currentperformance)\n",
        "    bestperformancearray.append(bestperformance)\n",
        "    return solutionarray, performancearray, bestperformancearray, bestperformance"
      ],
      "metadata": {
        "id": "oCMq1LQq6GjA"
      },
      "execution_count": null,
      "outputs": []
    },
    {
      "cell_type": "markdown",
      "source": [
        "# inisialisasi awal"
      ],
      "metadata": {
        "id": "_tZvBnLG33lH"
      }
    },
    {
      "cell_type": "code",
      "source": [
        "visibility = 1 / (d + np.eye(n))\n",
        "np.fill_diagonal(visibility, 0)\n",
        "pheromone = pheromone_init * np.ones((n, n))\n",
        "temp_visibility = np.array(visibility)\n",
        "rute = np.zeros((m, n))\n",
        "bestperformance = np.inf\n",
        "solutionarray = []\n",
        "performancearray = []\n",
        "bestperformancearray = []"
      ],
      "metadata": {
        "id": "HBTIL6B138u5"
      },
      "execution_count": null,
      "outputs": []
    },
    {
      "cell_type": "markdown",
      "source": [
        "# output awal"
      ],
      "metadata": {
        "id": "vuFiDRVM4cy4"
      }
    },
    {
      "cell_type": "code",
      "source": [
        "print(\"Nilai Feromon Awal (pheromone):\")\n",
        "print(np.round(pheromone, 1))\n",
        "\n",
        "print(\"\\nMatriks Visibility (1 / jarak):\")\n",
        "print(np.round(visibility, 6))\n",
        "\n",
        "print(\"\\nTemp Visibility (copy dari visibility):\")\n",
        "print(np.round(temp_visibility, 6))"
      ],
      "metadata": {
        "id": "zMJ_mqCI4fTE",
        "outputId": "0ad8d53a-1a28-428a-f34e-0a490b0dd3ef",
        "colab": {
          "base_uri": "https://localhost:8080/"
        }
      },
      "execution_count": null,
      "outputs": [
        {
          "output_type": "stream",
          "name": "stdout",
          "text": [
            "Nilai Feromon Awal (pheromone):\n",
            "[[0.1 0.1 0.1 0.1 0.1 0.1 0.1 0.1 0.1 0.1]\n",
            " [0.1 0.1 0.1 0.1 0.1 0.1 0.1 0.1 0.1 0.1]\n",
            " [0.1 0.1 0.1 0.1 0.1 0.1 0.1 0.1 0.1 0.1]\n",
            " [0.1 0.1 0.1 0.1 0.1 0.1 0.1 0.1 0.1 0.1]\n",
            " [0.1 0.1 0.1 0.1 0.1 0.1 0.1 0.1 0.1 0.1]\n",
            " [0.1 0.1 0.1 0.1 0.1 0.1 0.1 0.1 0.1 0.1]\n",
            " [0.1 0.1 0.1 0.1 0.1 0.1 0.1 0.1 0.1 0.1]\n",
            " [0.1 0.1 0.1 0.1 0.1 0.1 0.1 0.1 0.1 0.1]\n",
            " [0.1 0.1 0.1 0.1 0.1 0.1 0.1 0.1 0.1 0.1]\n",
            " [0.1 0.1 0.1 0.1 0.1 0.1 0.1 0.1 0.1 0.1]]\n",
            "\n",
            "Matriks Visibility (1 / jarak):\n",
            "[[0.       0.5      0.169492 0.196078 0.163934 0.357143 0.25     0.166667\n",
            "  0.188679 0.208333]\n",
            " [0.5      0.       0.625    0.47619  2.857143 0.25641  0.5      1.538462\n",
            "  1.111111 1.538462]\n",
            " [0.169492 0.625    0.       0.555556 0.714286 0.227273 0.238095 0.666667\n",
            "  0.666667 0.909091]\n",
            " [0.196078 0.47619  0.555556 0.       0.4      0.277778 0.357143 0.357143\n",
            "  0.5      0.666667]\n",
            " [0.163934 2.857143 0.714286 0.4      0.       0.217391 0.227273 1.428571\n",
            "  1.333333 0.769231]\n",
            " [0.357143 0.25641  0.227273 0.277778 0.217391 0.       0.588235 0.217391\n",
            "  0.263158 0.30303 ]\n",
            " [0.25     0.5      0.238095 0.357143 0.227273 0.588235 0.       0.227273\n",
            "  0.27027  0.3125  ]\n",
            " [0.166667 1.538462 0.666667 0.357143 1.428571 0.217391 0.227273 0.\n",
            "  1.428571 0.769231]\n",
            " [0.188679 1.111111 0.666667 0.5      1.333333 0.263158 0.27027  1.428571\n",
            "  0.       1.666667]\n",
            " [0.208333 1.538462 0.909091 0.666667 0.769231 0.30303  0.3125   0.769231\n",
            "  1.666667 0.      ]]\n",
            "\n",
            "Temp Visibility (copy dari visibility):\n",
            "[[0.       0.5      0.169492 0.196078 0.163934 0.357143 0.25     0.166667\n",
            "  0.188679 0.208333]\n",
            " [0.5      0.       0.625    0.47619  2.857143 0.25641  0.5      1.538462\n",
            "  1.111111 1.538462]\n",
            " [0.169492 0.625    0.       0.555556 0.714286 0.227273 0.238095 0.666667\n",
            "  0.666667 0.909091]\n",
            " [0.196078 0.47619  0.555556 0.       0.4      0.277778 0.357143 0.357143\n",
            "  0.5      0.666667]\n",
            " [0.163934 2.857143 0.714286 0.4      0.       0.217391 0.227273 1.428571\n",
            "  1.333333 0.769231]\n",
            " [0.357143 0.25641  0.227273 0.277778 0.217391 0.       0.588235 0.217391\n",
            "  0.263158 0.30303 ]\n",
            " [0.25     0.5      0.238095 0.357143 0.227273 0.588235 0.       0.227273\n",
            "  0.27027  0.3125  ]\n",
            " [0.166667 1.538462 0.666667 0.357143 1.428571 0.217391 0.227273 0.\n",
            "  1.428571 0.769231]\n",
            " [0.188679 1.111111 0.666667 0.5      1.333333 0.263158 0.27027  1.428571\n",
            "  0.       1.666667]\n",
            " [0.208333 1.538462 0.909091 0.666667 0.769231 0.30303  0.3125   0.769231\n",
            "  1.666667 0.      ]]\n"
          ]
        }
      ]
    },
    {
      "cell_type": "markdown",
      "source": [
        "#  output findroute"
      ],
      "metadata": {
        "id": "y9XLifhT9MtB"
      }
    },
    {
      "cell_type": "code",
      "source": [
        "rute = findroute(rute,0,temp_visibility, pheromone,)\n",
        "print(np.round(rute, 1))"
      ],
      "metadata": {
        "colab": {
          "base_uri": "https://localhost:8080/"
        },
        "id": "-Kicf7Hn9RJu",
        "outputId": "be167be2-c0ba-4009-dde8-6e77ccc431b2"
      },
      "execution_count": 33,
      "outputs": [
        {
          "output_type": "stream",
          "name": "stdout",
          "text": [
            "\\ Rute kendaraan pada iterasi 1:\n",
            "[[0. 1. 6. 5. 2. 8. 9. 3. 4. 7.]\n",
            " [0. 1. 4. 7. 8. 9. 2. 3. 5. 6.]\n",
            " [0. 1. 4. 8. 9. 2. 3. 5. 6. 7.]\n",
            " [0. 1. 7. 4. 9. 2. 3. 6. 5. 8.]\n",
            " [0. 1. 4. 7. 8. 9. 2. 3. 6. 5.]\n",
            " [0. 1. 4. 8. 9. 7. 2. 6. 5. 3.]]\n"
          ]
        }
      ]
    },
    {
      "cell_type": "markdown",
      "source": [
        "# output findrouteallant"
      ],
      "metadata": {
        "id": "7LbvsY-aBeAM"
      }
    },
    {
      "cell_type": "code",
      "source": [
        "rute = findrouteallant(rute,pheromone,visibility)\n",
        "print(np.round(rute, 1))"
      ],
      "metadata": {
        "colab": {
          "base_uri": "https://localhost:8080/"
        },
        "id": "8w7d_PSzBdGe",
        "outputId": "ab52d01a-d036-44d5-db04-a3123d5a4b5a"
      },
      "execution_count": 34,
      "outputs": [
        {
          "output_type": "stream",
          "name": "stdout",
          "text": [
            "[[0. 1. 4. 7. 8. 3. 6. 5. 9. 2.]\n",
            " [0. 1. 4. 2. 6. 5. 3. 8. 9. 7.]\n",
            " [0. 1. 4. 7. 8. 2. 3. 6. 5. 9.]\n",
            " [0. 1. 4. 8. 9. 3. 6. 5. 7. 2.]\n",
            " [0. 1. 4. 7. 8. 9. 3. 6. 5. 2.]\n",
            " [0. 1. 7. 8. 2. 3. 6. 5. 9. 4.]]\n"
          ]
        }
      ]
    },
    {
      "cell_type": "markdown",
      "source": [
        "# rute pengangkut sampah WK1"
      ],
      "metadata": {
        "id": "BODv8flC9W86"
      }
    },
    {
      "cell_type": "code",
      "source": [
        "print(\"\\Rute kendaraan pengangkut sampah WK 1:\")\n",
        "print(np.round(rute, 1))"
      ],
      "metadata": {
        "colab": {
          "base_uri": "https://localhost:8080/"
        },
        "id": "jNygXHjS9b5F",
        "outputId": "5d8fa833-0eba-4f34-f663-c86c578f7e3c"
      },
      "execution_count": null,
      "outputs": [
        {
          "output_type": "stream",
          "name": "stdout",
          "text": [
            "\\Rute kendaraan pengangkut sampah WK 1:\n",
            "[[0. 8. 2. 1. 3. 4. 9. 7. 5. 6.]\n",
            " [0. 5. 2. 1. 7. 8. 9. 4. 6. 3.]\n",
            " [0. 2. 4. 7. 1. 5. 8. 3. 6. 9.]\n",
            " [0. 4. 1. 6. 5. 3. 2. 9. 8. 7.]\n",
            " [0. 1. 9. 4. 8. 3. 5. 6. 7. 2.]\n",
            " [0. 1. 7. 8. 2. 5. 6. 4. 9. 3.]]\n"
          ]
        }
      ]
    },
    {
      "cell_type": "markdown",
      "source": [
        "# rute kendaraan dan total jarak tempuh kendaraan"
      ],
      "metadata": {
        "id": "1i9K06JGDldH"
      }
    },
    {
      "cell_type": "code",
      "source": [
        "df_rute = pd.DataFrame({\n",
        "    \"sequence\": [list(map(int, r)) for r in rute],\n",
        "    \"evaluation\": [round(e, 2) for e in evaluasi]\n",
        "})\n",
        "\n",
        "print(\"\\\\nTabel Rute Kendaraan dan Total Jarak Tempuhnya:\")\n",
        "print(df_rute)\n"
      ],
      "metadata": {
        "colab": {
          "base_uri": "https://localhost:8080/"
        },
        "id": "Q6mAlqQGDtcj",
        "outputId": "ba76f90a-039a-4b58-e77d-f4c043046b2f"
      },
      "execution_count": 35,
      "outputs": [
        {
          "output_type": "stream",
          "name": "stdout",
          "text": [
            "\\nTabel Rute Kendaraan dan Total Jarak Tempuhnya:\n",
            "                         sequence  evaluation\n",
            "0  [0, 1, 4, 7, 8, 3, 6, 5, 9, 2]       20.55\n",
            "1  [0, 1, 4, 2, 6, 5, 3, 8, 9, 7]       16.55\n",
            "2  [0, 1, 4, 7, 8, 2, 3, 6, 5, 9]       22.30\n",
            "3  [0, 1, 4, 8, 9, 3, 6, 5, 7, 2]       21.15\n",
            "4  [0, 1, 4, 7, 8, 9, 3, 6, 5, 2]       14.55\n",
            "5  [0, 1, 7, 8, 2, 3, 6, 5, 9, 4]       21.10\n"
          ]
        }
      ]
    },
    {
      "cell_type": "markdown",
      "source": [
        "# bestperformance pada WK1"
      ],
      "metadata": {
        "id": "rUPqk0BqFCMw"
      }
    },
    {
      "cell_type": "code",
      "source": [
        "print(\"Best Performance pada WK1:\")\n",
        "print(bestperformancearray[0])"
      ],
      "metadata": {
        "colab": {
          "base_uri": "https://localhost:8080/"
        },
        "id": "Hvg5JOqsFFyE",
        "outputId": "51347b97-15b7-48fb-e7dc-ab2c07be2374"
      },
      "execution_count": 39,
      "outputs": [
        {
          "output_type": "stream",
          "name": "stdout",
          "text": [
            "Best Performance pada WK1:\n",
            "19.3\n"
          ]
        }
      ]
    },
    {
      "cell_type": "markdown",
      "source": [
        "# update feromon"
      ],
      "metadata": {
        "id": "8gdOrLBU-j8y"
      }
    },
    {
      "cell_type": "code",
      "source": [
        "pheromone = updatepheromone(pheromone, rute, evaluasi)\n",
        "print(\"\\nFeromon setelah update:\")\n",
        "print(np.round(pheromone, 6))"
      ],
      "metadata": {
        "colab": {
          "base_uri": "https://localhost:8080/"
        },
        "id": "oqsIWnyT-qxT",
        "outputId": "403561f9-517e-4924-e2b6-02de4d1b7de0"
      },
      "execution_count": null,
      "outputs": [
        {
          "output_type": "stream",
          "name": "stdout",
          "text": [
            "\n",
            "Feromon setelah update:\n",
            "[[ 0.1      23.934935  0.31246   1.691399  0.495617  3.397788  0.262671\n",
            "   0.435712  0.412278  0.55563 ]\n",
            " [ 0.1       0.1       0.437339  0.282866 21.032634  0.270295  0.723518\n",
            "   2.707661  1.786614  2.748466]\n",
            " [ 0.1       0.692789  0.1      14.050634  0.896758  2.442984  2.149876\n",
            "   1.751153  2.772086  3.577256]\n",
            " [ 0.1       0.989842  1.962573  0.1       1.685277  6.36676  11.573892\n",
            "   1.223733  1.370432  2.640305]\n",
            " [ 0.1       2.037186  4.451416  0.593958  0.1       0.733531  0.870922\n",
            "  11.835668  6.838598  1.912918]\n",
            " [ 0.1       0.434232  2.079023  1.759028  0.632699  0.1      13.2199\n",
            "   1.970356  1.106395  2.484963]\n",
            " [ 0.1       0.816787  1.402408  3.94462   0.353671 14.469899  0.1\n",
            "   2.710021  1.241258  0.685121]\n",
            " [ 0.1       0.80384   5.617595  2.138528  5.220531  0.75852   1.091882\n",
            "   0.1      11.635772  1.068612]\n",
            " [ 0.1       0.716774  2.529073  1.83191   0.531607  0.560594  1.131211\n",
            "   6.657054  0.1      15.825217]\n",
            " [ 0.1       1.072104 12.706602  5.205546  0.649696  2.498119  0.474619\n",
            "   2.20713   4.335056  0.1     ]]\n"
          ]
        }
      ]
    },
    {
      "cell_type": "markdown",
      "source": [
        "# Ambil current performance dan current solution terakhir"
      ],
      "metadata": {
        "id": "zFqaqwxtEeEI"
      }
    },
    {
      "cell_type": "code",
      "source": [
        "currentperformance = min(evaluasi)\n",
        "currentsolution = rute[np.argmin(evaluasi)]\n",
        "\n",
        "print(\"\\nCurrent Performance (terakhir):\")\n",
        "print(round(currentperformance, 2))\n",
        "\n",
        "print(\"\\nCurrent Solution (rute terbaik terakhir):\")\n",
        "print([int(i) for i in currentsolution])"
      ],
      "metadata": {
        "colab": {
          "base_uri": "https://localhost:8080/"
        },
        "id": "xoU_PkjgEakS",
        "outputId": "62703761-8c17-4b9f-acc8-7b56553ea6ba"
      },
      "execution_count": 36,
      "outputs": [
        {
          "output_type": "stream",
          "name": "stdout",
          "text": [
            "\n",
            "Current Performance (terakhir):\n",
            "14.55\n",
            "\n",
            "Current Solution (rute terbaik terakhir):\n",
            "[0, 1, 4, 7, 8, 9, 3, 6, 5, 2]\n"
          ]
        }
      ]
    },
    {
      "cell_type": "markdown",
      "source": [
        "# iterasi ACO"
      ],
      "metadata": {
        "id": "1d_ltX-3-UCu"
      }
    },
    {
      "cell_type": "code",
      "source": [
        "for ite in range(iteration):\n",
        "    rute = findrouteallant(rute, pheromone, visibility)\n",
        "    evaluasi = evaluate(rute)\n",
        "    pheromone = updatepheromone(pheromone, rute, evaluasi)\n",
        "    solutionarray, performancearray, bestperformancearray, bestperformance = performancerecord(\n",
        "        evaluasi, rute, bestperformance, solutionarray, performancearray, bestperformancearray)"
      ],
      "metadata": {
        "id": "rv1DvOeo6XOj"
      },
      "execution_count": 32,
      "outputs": []
    },
    {
      "cell_type": "markdown",
      "source": [
        "# performa dan solusi rute terakhir"
      ],
      "metadata": {
        "id": "DNV3U1joGZNe"
      }
    },
    {
      "cell_type": "code",
      "source": [
        "currentperformance = performancearray[-1]\n",
        "currentsolution = solutionarray[-1].astype(int)\n",
        "print(\"\\nCurrent Performance (iterasi terakhir):\", round(currentperformance, 2))\n",
        "print(\"Current Solution:\", list(currentsolution))"
      ],
      "metadata": {
        "colab": {
          "base_uri": "https://localhost:8080/"
        },
        "id": "ALM-E-4xGkPb",
        "outputId": "1d7fd149-4530-4d18-a252-0e558c669644"
      },
      "execution_count": 41,
      "outputs": [
        {
          "output_type": "stream",
          "name": "stdout",
          "text": [
            "\n",
            "Current Performance (iterasi terakhir): 14.55\n",
            "Current Solution: [np.int64(0), np.int64(1), np.int64(4), np.int64(7), np.int64(8), np.int64(9), np.int64(3), np.int64(6), np.int64(5), np.int64(2)]\n"
          ]
        }
      ]
    },
    {
      "cell_type": "markdown",
      "source": [
        "# rute terakhir"
      ],
      "metadata": {
        "id": "OTxbwmiPGu_t"
      }
    },
    {
      "cell_type": "code",
      "source": [
        "best_index = np.argmin(evaluasi)\n",
        "rute_akhir = rute[best_index].astype(int)\n",
        "print(\"\\nRute Akhir (Solusi Optimal):\")\n",
        "print(\" -> \".join([locations[i] for i in rute_akhir] + [locations[rute_akhir[0]]]))\n",
        "print(\"Total Jarak Tempuh Rute Akhir:\", round(evaluasi[best_index], 2))"
      ],
      "metadata": {
        "colab": {
          "base_uri": "https://localhost:8080/"
        },
        "id": "Mtb2F47mGw9g",
        "outputId": "429b2f5f-1b59-43b7-b664-3b8e9ded9e5a"
      },
      "execution_count": 42,
      "outputs": [
        {
          "output_type": "stream",
          "name": "stdout",
          "text": [
            "\n",
            "Rute Akhir (Solusi Optimal):\n",
            "TPA -> Jl. Marelan Raya -> Komplek Suzuya Plaza -> Komplek Maryland -> Komplek Sejati -> Rs Esmun -> Jl. Pasar 1 Tengah -> Komplek Deli Indah -> Komplek Marelan 88 -> Jl. Baut -> TPA\n",
            "Total Jarak Tempuh Rute Akhir: 14.55\n"
          ]
        }
      ]
    },
    {
      "cell_type": "markdown",
      "source": [
        "# hasil rute terbaik"
      ],
      "metadata": {
        "id": "kbLDSwTu9YHh"
      }
    },
    {
      "cell_type": "code",
      "source": [
        "print(\"Rute terbaik:\")\n",
        "best_route = solutionarray[-1].astype(int)\n",
        "print(\" -> \".join([locations[i] for i in best_route] + [locations[best_route[0]]]))\n",
        "print(\"Jarak tempuh minimum:\", bestperformance)"
      ],
      "metadata": {
        "colab": {
          "base_uri": "https://localhost:8080/"
        },
        "id": "1yKUyx-z9aim",
        "outputId": "86abdb8d-0298-47b1-a4c4-28eac702d5d2"
      },
      "execution_count": null,
      "outputs": [
        {
          "output_type": "stream",
          "name": "stdout",
          "text": [
            "Rute terbaik:\n",
            "TPA -> Jl. Marelan Raya -> Komplek Suzuya Plaza -> Komplek Maryland -> Jl. Baut -> Komplek Sejati -> Rs Esmun -> Jl. Pasar 1 Tengah -> Komplek Deli Indah -> Komplek Marelan 88 -> TPA\n",
            "Jarak tempuh minimum: 14.549999999999997\n"
          ]
        }
      ]
    },
    {
      "cell_type": "markdown",
      "source": [
        "# Plot hasil performa menggunakan matplotplib"
      ],
      "metadata": {
        "id": "743RwTRO9jAD"
      }
    },
    {
      "cell_type": "code",
      "source": [
        "plt.plot(performancearray, label=\"Performance\")\n",
        "plt.plot(bestperformancearray, label=\"Best Performance\")\n",
        "plt.title(\"Plot ant colony optimitazion\")\n",
        "plt.xlabel(\"Iterasi\")\n",
        "plt.ylabel(\"Jarak Tempuh\")\n",
        "plt.legend()\n",
        "plt.grid()\n",
        "plt.show()"
      ],
      "metadata": {
        "colab": {
          "base_uri": "https://localhost:8080/",
          "height": 472
        },
        "id": "mHT9B8bW9pW_",
        "outputId": "279fb26b-e68f-484e-a7c6-424fe46a96be"
      },
      "execution_count": null,
      "outputs": [
        {
          "output_type": "display_data",
          "data": {
            "text/plain": [
              "<Figure size 640x480 with 1 Axes>"
            ],
            "image/png": "[encoded data removed]"
          },
          "metadata": {}
        }
      ]
    }
  ]
}